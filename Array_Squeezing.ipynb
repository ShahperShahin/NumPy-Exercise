{
 "cells": [
  {
   "cell_type": "code",
   "execution_count": 2,
   "id": "1780036c",
   "metadata": {},
   "outputs": [],
   "source": [
    "import numpy as np"
   ]
  },
  {
   "cell_type": "code",
   "execution_count": 3,
   "id": "98d1eab1",
   "metadata": {},
   "outputs": [],
   "source": [
    "in_arr = np.array([[[2, 4, 2], [4, 0, 2],[9,0,3]]])"
   ]
  },
  {
   "cell_type": "code",
   "execution_count": 4,
   "id": "c6ce3997",
   "metadata": {},
   "outputs": [
    {
     "name": "stdout",
     "output_type": "stream",
     "text": [
      "Input array :  [[[2 4 2]\n",
      "  [4 0 2]\n",
      "  [9 0 3]]]\n",
      "Shape of input array :  (1, 3, 3)\n"
     ]
    }
   ],
   "source": [
    "print (\"Input array : \", in_arr) \n",
    "print(\"Shape of input array : \", in_arr.shape)  "
   ]
  },
  {
   "cell_type": "code",
   "execution_count": 5,
   "id": "13b5aa94",
   "metadata": {},
   "outputs": [],
   "source": [
    "out_arr = np.squeeze(in_arr)"
   ]
  },
  {
   "cell_type": "code",
   "execution_count": 6,
   "id": "ead34ed3",
   "metadata": {},
   "outputs": [
    {
     "name": "stdout",
     "output_type": "stream",
     "text": [
      "output squeezed array :  [[2 4 2]\n",
      " [4 0 2]\n",
      " [9 0 3]]\n",
      "Shape of output array :  (3, 3)\n"
     ]
    }
   ],
   "source": [
    "print (\"output squeezed array : \", out_arr)\n",
    "print(\"Shape of output array : \", out_arr.shape) "
   ]
  }
 ],
 "metadata": {
  "kernelspec": {
   "display_name": "Python 3 (ipykernel)",
   "language": "python",
   "name": "python3"
  },
  "language_info": {
   "codemirror_mode": {
    "name": "ipython",
    "version": 3
   },
   "file_extension": ".py",
   "mimetype": "text/x-python",
   "name": "python",
   "nbconvert_exporter": "python",
   "pygments_lexer": "ipython3",
   "version": "3.9.13"
  }
 },
 "nbformat": 4,
 "nbformat_minor": 5
}
