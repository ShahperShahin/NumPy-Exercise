{
 "cells": [
  {
   "cell_type": "code",
   "execution_count": 1,
   "id": "cd4f4d2b",
   "metadata": {},
   "outputs": [],
   "source": [
    "import numpy as np"
   ]
  },
  {
   "cell_type": "code",
   "execution_count": 2,
   "id": "96b5bb5b",
   "metadata": {},
   "outputs": [],
   "source": [
    "## making array"
   ]
  },
  {
   "cell_type": "code",
   "execution_count": 3,
   "id": "4d4dfdc7",
   "metadata": {},
   "outputs": [],
   "source": [
    "arr1= np.array([1,4,2,6,8])\n",
    "arr2= np.array([0,2,6,3,21])"
   ]
  },
  {
   "cell_type": "code",
   "execution_count": 4,
   "id": "6d14cbdd",
   "metadata": {},
   "outputs": [],
   "source": [
    "comb_arr= np.dstack((arr1,arr2))"
   ]
  },
  {
   "cell_type": "markdown",
   "id": "d508f65b",
   "metadata": {},
   "source": [
    "- np.dstack is a NumPy function that is used to stack arrays along the third dimension (depth-wise stacking).\n",
    "\n",
    "- np.dstack is a function in NumPy that helps combine two or more 2D arrays together into a single 3D array by stacking them one behind the other on the basis of the index position"
   ]
  },
  {
   "cell_type": "code",
   "execution_count": 5,
   "id": "59b7a25e",
   "metadata": {},
   "outputs": [
    {
     "name": "stdout",
     "output_type": "stream",
     "text": [
      "The new Array combined index by index is \n",
      " [[[ 1  0]\n",
      "  [ 4  2]\n",
      "  [ 2  6]\n",
      "  [ 6  3]\n",
      "  [ 8 21]]]\n"
     ]
    }
   ],
   "source": [
    "print(\"The new Array combined index by index is\",'\\n',comb_arr)"
   ]
  },
  {
   "cell_type": "code",
   "execution_count": null,
   "id": "128e9f4a",
   "metadata": {},
   "outputs": [],
   "source": []
  }
 ],
 "metadata": {
  "kernelspec": {
   "display_name": "Python 3 (ipykernel)",
   "language": "python",
   "name": "python3"
  },
  "language_info": {
   "codemirror_mode": {
    "name": "ipython",
    "version": 3
   },
   "file_extension": ".py",
   "mimetype": "text/x-python",
   "name": "python",
   "nbconvert_exporter": "python",
   "pygments_lexer": "ipython3",
   "version": "3.9.13"
  }
 },
 "nbformat": 4,
 "nbformat_minor": 5
}
