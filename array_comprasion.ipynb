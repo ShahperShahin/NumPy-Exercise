{
 "cells": [
  {
   "cell_type": "code",
   "execution_count": 1,
   "id": "c1daa479",
   "metadata": {},
   "outputs": [],
   "source": [
    "import numpy as np"
   ]
  },
  {
   "cell_type": "code",
   "execution_count": 2,
   "id": "cc9aaf44",
   "metadata": {},
   "outputs": [],
   "source": [
    "an_array = np.array([[1, 2], [3, 4]])\n",
    "another_array = np.array([[1, 2], [3, 4]])"
   ]
  },
  {
   "cell_type": "code",
   "execution_count": 3,
   "id": "c6114780",
   "metadata": {},
   "outputs": [],
   "source": [
    "comparison = an_array == another_array\n",
    "equal_arrays = comparison.all()"
   ]
  },
  {
   "cell_type": "code",
   "execution_count": 4,
   "id": "80b345a3",
   "metadata": {},
   "outputs": [
    {
     "name": "stdout",
     "output_type": "stream",
     "text": [
      "True\n"
     ]
    }
   ],
   "source": [
    "print(equal_arrays)"
   ]
  },
  {
   "cell_type": "code",
   "execution_count": 5,
   "id": "9c413462",
   "metadata": {},
   "outputs": [],
   "source": [
    "array1 = np.array([[7, 9], [4, 2]])\n",
    "another_array1 = np.array([[1, 3], [0, 5]])"
   ]
  },
  {
   "cell_type": "code",
   "execution_count": 6,
   "id": "b5fdae02",
   "metadata": {},
   "outputs": [],
   "source": [
    "comparison = array1 == another_array1\n",
    "equal_arrays = comparison.all()"
   ]
  },
  {
   "cell_type": "code",
   "execution_count": 7,
   "id": "ca98fe9f",
   "metadata": {},
   "outputs": [
    {
     "name": "stdout",
     "output_type": "stream",
     "text": [
      "False\n"
     ]
    }
   ],
   "source": [
    "print(equal_arrays)"
   ]
  }
 ],
 "metadata": {
  "kernelspec": {
   "display_name": "Python 3 (ipykernel)",
   "language": "python",
   "name": "python3"
  },
  "language_info": {
   "codemirror_mode": {
    "name": "ipython",
    "version": 3
   },
   "file_extension": ".py",
   "mimetype": "text/x-python",
   "name": "python",
   "nbconvert_exporter": "python",
   "pygments_lexer": "ipython3",
   "version": "3.9.13"
  }
 },
 "nbformat": 4,
 "nbformat_minor": 5
}
