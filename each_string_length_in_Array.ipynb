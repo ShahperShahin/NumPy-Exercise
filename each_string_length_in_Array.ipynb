{
 "cells": [
  {
   "cell_type": "code",
   "execution_count": 1,
   "id": "f90b3fa1",
   "metadata": {},
   "outputs": [],
   "source": [
    "import numpy as np"
   ]
  },
  {
   "cell_type": "code",
   "execution_count": 2,
   "id": "dbbe8b83",
   "metadata": {},
   "outputs": [],
   "source": [
    "#making a array with strings\n",
    "\n",
    "arr= np.array([\"GitHub\",\"Fork Me\",\"Artificial\",\"Intelligence\"])"
   ]
  },
  {
   "cell_type": "code",
   "execution_count": 3,
   "id": "0e905f6b",
   "metadata": {},
   "outputs": [],
   "source": [
    "# using the vectorize function to get the length of strings of array\n",
    "\n",
    "string_len= np.vectorize(len)"
   ]
  },
  {
   "cell_type": "code",
   "execution_count": 4,
   "id": "e0cfd47c",
   "metadata": {},
   "outputs": [],
   "source": [
    "# calling the fuction with the parameter(thw array with the string value)\n",
    "\n",
    "len_arr= string_len(arr)"
   ]
  },
  {
   "cell_type": "code",
   "execution_count": 5,
   "id": "d4bbcd04",
   "metadata": {},
   "outputs": [
    {
     "data": {
      "text/plain": [
       "array([ 6,  7, 10, 12])"
      ]
     },
     "execution_count": 5,
     "metadata": {},
     "output_type": "execute_result"
    }
   ],
   "source": [
    "len_arr"
   ]
  }
 ],
 "metadata": {
  "kernelspec": {
   "display_name": "Python 3 (ipykernel)",
   "language": "python",
   "name": "python3"
  },
  "language_info": {
   "codemirror_mode": {
    "name": "ipython",
    "version": 3
   },
   "file_extension": ".py",
   "mimetype": "text/x-python",
   "name": "python",
   "nbconvert_exporter": "python",
   "pygments_lexer": "ipython3",
   "version": "3.9.13"
  }
 },
 "nbformat": 4,
 "nbformat_minor": 5
}
