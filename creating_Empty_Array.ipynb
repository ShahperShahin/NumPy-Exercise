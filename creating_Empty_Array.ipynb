{
 "cells": [
  {
   "cell_type": "code",
   "execution_count": null,
   "id": "26b1ee24",
   "metadata": {},
   "outputs": [],
   "source": [
    "import numpy as np"
   ]
  },
  {
   "cell_type": "code",
   "execution_count": null,
   "id": "24c87061",
   "metadata": {},
   "outputs": [],
   "source": [
    "#to create a empty array"
   ]
  },
  {
   "cell_type": "code",
   "execution_count": null,
   "id": "025f28a8",
   "metadata": {},
   "outputs": [],
   "source": [
    "emp_arr = np.empty((5,3),dtype=int)"
   ]
  },
  {
   "cell_type": "code",
   "execution_count": null,
   "id": "f31142a3",
   "metadata": {},
   "outputs": [],
   "source": [
    "emp_arr"
   ]
  },
  {
   "cell_type": "code",
   "execution_count": null,
   "id": "f58b5721",
   "metadata": {},
   "outputs": [],
   "source": []
  }
 ],
 "metadata": {
  "kernelspec": {
   "display_name": "Python 3 (ipykernel)",
   "language": "python",
   "name": "python3"
  },
  "language_info": {
   "codemirror_mode": {
    "name": "ipython",
    "version": 3
   },
   "file_extension": ".py",
   "mimetype": "text/x-python",
   "name": "python",
   "nbconvert_exporter": "python",
   "pygments_lexer": "ipython3",
   "version": "3.9.13"
  }
 },
 "nbformat": 4,
 "nbformat_minor": 5
}
