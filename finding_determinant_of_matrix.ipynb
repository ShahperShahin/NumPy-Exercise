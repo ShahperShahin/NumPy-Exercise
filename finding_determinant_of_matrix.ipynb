{
 "cells": [
  {
   "cell_type": "code",
   "execution_count": 1,
   "id": "0e640fcb",
   "metadata": {},
   "outputs": [],
   "source": [
    "import numpy as np"
   ]
  },
  {
   "cell_type": "code",
   "execution_count": 2,
   "id": "39d5b4f4",
   "metadata": {},
   "outputs": [],
   "source": [
    "## making the array"
   ]
  },
  {
   "cell_type": "code",
   "execution_count": 3,
   "id": "b3b625f2",
   "metadata": {},
   "outputs": [],
   "source": [
    "arr= np.array([[50,2],[3,44]])"
   ]
  },
  {
   "cell_type": "code",
   "execution_count": 4,
   "id": "08026118",
   "metadata": {},
   "outputs": [
    {
     "data": {
      "text/plain": [
       "array([[50,  2],\n",
       "       [ 3, 44]])"
      ]
     },
     "execution_count": 4,
     "metadata": {},
     "output_type": "execute_result"
    }
   ],
   "source": [
    "arr"
   ]
  },
  {
   "cell_type": "code",
   "execution_count": 5,
   "id": "a53a333a",
   "metadata": {},
   "outputs": [],
   "source": [
    "## using numpy's linalg.det function to calculate the Determinant of 2x2 matrix\n",
    "\n",
    "det = np.linalg.det(arr)"
   ]
  },
  {
   "cell_type": "code",
   "execution_count": 6,
   "id": "b59d87b8",
   "metadata": {},
   "outputs": [
    {
     "name": "stdout",
     "output_type": "stream",
     "text": [
      "Determinant of n_arr matrix is: \n",
      " 2193\n"
     ]
    }
   ],
   "source": [
    "print(\"Determinant of n_arr matrix is:\" ,'\\n',int(det))"
   ]
  },
  {
   "cell_type": "code",
   "execution_count": 7,
   "id": "8b739e11",
   "metadata": {},
   "outputs": [],
   "source": [
    "n_arr= np.array([[5, 2, 1, 4, 6],\n",
    "                    [9, 4, 2, 5, 2],\n",
    "                    [11, 5, 7, 3, 9],\n",
    "                    [5, 6, 6, 7, 2],\n",
    "                    [7, 5, 9, 3, 3]])\n",
    "\n",
    "## Making 5x5 matrix"
   ]
  },
  {
   "cell_type": "code",
   "execution_count": 8,
   "id": "7d6b122d",
   "metadata": {},
   "outputs": [],
   "source": [
    "## using numpy's linalg.det function to calculate the Determinant of 5x5 matrix\n",
    "\n",
    "n_det = np.linalg.det(n_arr)"
   ]
  },
  {
   "cell_type": "code",
   "execution_count": 9,
   "id": "0b4884ce",
   "metadata": {},
   "outputs": [
    {
     "name": "stdout",
     "output_type": "stream",
     "text": [
      "Determinant of n_arr matrix is: \n",
      " -2003\n"
     ]
    }
   ],
   "source": [
    "print(\"Determinant of n_arr matrix is:\" ,'\\n',int(n_det))"
   ]
  }
 ],
 "metadata": {
  "kernelspec": {
   "display_name": "Python 3 (ipykernel)",
   "language": "python",
   "name": "python3"
  },
  "language_info": {
   "codemirror_mode": {
    "name": "ipython",
    "version": 3
   },
   "file_extension": ".py",
   "mimetype": "text/x-python",
   "name": "python",
   "nbconvert_exporter": "python",
   "pygments_lexer": "ipython3",
   "version": "3.9.13"
  }
 },
 "nbformat": 4,
 "nbformat_minor": 5
}
