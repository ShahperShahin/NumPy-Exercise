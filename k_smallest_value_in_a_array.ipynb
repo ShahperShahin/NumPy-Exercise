{
 "cells": [
  {
   "cell_type": "code",
   "execution_count": 1,
   "id": "4ad5ef94",
   "metadata": {},
   "outputs": [],
   "source": [
    "import numpy as np"
   ]
  },
  {
   "cell_type": "code",
   "execution_count": 2,
   "id": "4bca0ced",
   "metadata": {},
   "outputs": [],
   "source": [
    "arr=np.array([1,8,99,0,37,54,12,67,6])"
   ]
  },
  {
   "cell_type": "code",
   "execution_count": 3,
   "id": "9fa445d4",
   "metadata": {
    "scrolled": true
   },
   "outputs": [
    {
     "data": {
      "text/plain": [
       "array([ 1,  8, 99,  0, 37, 54, 12, 67,  6])"
      ]
     },
     "execution_count": 3,
     "metadata": {},
     "output_type": "execute_result"
    }
   ],
   "source": [
    "arr"
   ]
  },
  {
   "cell_type": "code",
   "execution_count": 4,
   "id": "1ebb774f",
   "metadata": {},
   "outputs": [],
   "source": [
    "k=5"
   ]
  },
  {
   "cell_type": "markdown",
   "id": "3c767175",
   "metadata": {},
   "source": [
    "k = no of smallest values to find in the array"
   ]
  },
  {
   "cell_type": "code",
   "execution_count": 5,
   "id": "ac15f252",
   "metadata": {},
   "outputs": [],
   "source": [
    "arr1=np.sort(arr)"
   ]
  },
  {
   "cell_type": "code",
   "execution_count": 6,
   "id": "f5985041",
   "metadata": {},
   "outputs": [
    {
     "data": {
      "text/plain": [
       "array([ 0,  1,  6,  8, 12, 37, 54, 67, 99])"
      ]
     },
     "execution_count": 6,
     "metadata": {},
     "output_type": "execute_result"
    }
   ],
   "source": [
    "arr1"
   ]
  },
  {
   "cell_type": "code",
   "execution_count": 7,
   "id": "c7c4ff2f",
   "metadata": {},
   "outputs": [
    {
     "data": {
      "text/plain": [
       "array([ 0,  1,  6,  8, 12])"
      ]
     },
     "execution_count": 7,
     "metadata": {},
     "output_type": "execute_result"
    }
   ],
   "source": [
    "arr1[:k]"
   ]
  },
  {
   "cell_type": "markdown",
   "id": "340002de",
   "metadata": {},
   "source": [
    "k smallest values in the array are (0,1,6,8,12) ; \n",
    "where k is 5"
   ]
  }
 ],
 "metadata": {
  "kernelspec": {
   "display_name": "Python 3 (ipykernel)",
   "language": "python",
   "name": "python3"
  },
  "language_info": {
   "codemirror_mode": {
    "name": "ipython",
    "version": 3
   },
   "file_extension": ".py",
   "mimetype": "text/x-python",
   "name": "python",
   "nbconvert_exporter": "python",
   "pygments_lexer": "ipython3",
   "version": "3.9.13"
  }
 },
 "nbformat": 4,
 "nbformat_minor": 5
}
