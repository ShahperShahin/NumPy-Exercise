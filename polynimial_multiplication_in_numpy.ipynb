{
 "cells": [
  {
   "cell_type": "code",
   "execution_count": 1,
   "id": "ddcb154f",
   "metadata": {},
   "outputs": [],
   "source": [
    "import numpy as np"
   ]
  },
  {
   "cell_type": "code",
   "execution_count": 2,
   "id": "5f76894e",
   "metadata": {},
   "outputs": [],
   "source": [
    "# define the polynomials"
   ]
  },
  {
   "cell_type": "code",
   "execution_count": 3,
   "id": "87daf716",
   "metadata": {},
   "outputs": [],
   "source": [
    "#r(X)=p(x)*q(x)"
   ]
  },
  {
   "cell_type": "code",
   "execution_count": 4,
   "id": "acde878f",
   "metadata": {},
   "outputs": [],
   "source": [
    "\n",
    "\n",
    "# p(x) = 5(x**2) + (-2)x +5\n",
    "  \n",
    "px = (5, -2, 5)\n",
    "\n",
    "\n",
    "# q(x) = 2(x**2) + (-5)x +2\n",
    "\n",
    "qx = (2, -5, 2)"
   ]
  },
  {
   "cell_type": "code",
   "execution_count": 5,
   "id": "deeaff7f",
   "metadata": {},
   "outputs": [],
   "source": [
    "rx= np.polynomial.polynomial.polymul(px,qx)"
   ]
  },
  {
   "cell_type": "code",
   "execution_count": 6,
   "id": "aa1a92cd",
   "metadata": {},
   "outputs": [
    {
     "name": "stdout",
     "output_type": "stream",
     "text": [
      "r(x) is [ 10. -29.  30. -29.  10.]\n"
     ]
    }
   ],
   "source": [
    "# print the resultant polynomial\n",
    "\n",
    "print(\"r(x) is\",rx)"
   ]
  }
 ],
 "metadata": {
  "kernelspec": {
   "display_name": "Python 3 (ipykernel)",
   "language": "python",
   "name": "python3"
  },
  "language_info": {
   "codemirror_mode": {
    "name": "ipython",
    "version": 3
   },
   "file_extension": ".py",
   "mimetype": "text/x-python",
   "name": "python",
   "nbconvert_exporter": "python",
   "pygments_lexer": "ipython3",
   "version": "3.9.13"
  }
 },
 "nbformat": 4,
 "nbformat_minor": 5
}
