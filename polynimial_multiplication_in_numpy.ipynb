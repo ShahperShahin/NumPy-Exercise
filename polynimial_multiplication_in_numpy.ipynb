{
 "cells": [
  {
   "cell_type": "code",
   "execution_count": null,
   "id": "bf1831e8",
   "metadata": {},
   "outputs": [],
   "source": [
    "# importing package\n",
    "import numpy\n",
    "  \n",
    "# define the polynomials\n",
    "# p(x) = 5(x**2) + (-2)x +5\n",
    "  \n",
    "px = (5, -2, 5)\n",
    "# q(x) = 2(x**2) + (-5)x +2\n",
    "qx = (2, -5, 2)\n",
    "  \n",
    "# mul the polynomials\n",
    "rx = numpy.polynomial.polynomial.polymul(px, qx)\n",
    "  \n",
    "\n",
    "print(rx)\n"
   ]
  },
  {
   "cell_type": "code",
   "execution_count": 1,
   "id": "f5aac65e",
   "metadata": {},
   "outputs": [],
   "source": [
    "import numpy as np"
   ]
  },
  {
   "cell_type": "code",
   "execution_count": 10,
   "id": "605f97c2",
   "metadata": {},
   "outputs": [],
   "source": [
    "# define the polynomials"
   ]
  },
  {
   "cell_type": "code",
   "execution_count": 2,
   "id": "53f37e2d",
   "metadata": {},
   "outputs": [],
   "source": [
    "\n",
    "\n",
    "# p(x) = 5(x**2) + (-2)x +5\n",
    "  \n",
    "px = (5, -2, 5)\n",
    "\n",
    "\n",
    "# q(x) = 2(x**2) + (-5)x +2\n",
    "\n",
    "qx = (2, -5, 2)"
   ]
  },
  {
   "cell_type": "code",
   "execution_count": 9,
   "id": "8df04ea7",
   "metadata": {},
   "outputs": [
    {
     "ename": "NameError",
     "evalue": "name 'p' is not defined",
     "output_type": "error",
     "traceback": [
      "\u001b[0;31m---------------------------------------------------------------------------\u001b[0m",
      "\u001b[0;31mNameError\u001b[0m                                 Traceback (most recent call last)",
      "\u001b[0;32m/var/folders/dx/rn21bjz16q9_r9n4sft1rjdr0000gn/T/ipykernel_40835/376325801.py\u001b[0m in \u001b[0;36m<module>\u001b[0;34m\u001b[0m\n\u001b[0;32m----> 1\u001b[0;31m \u001b[0mrx\u001b[0m\u001b[0;34m=\u001b[0m \u001b[0mnp\u001b[0m\u001b[0;34m.\u001b[0m\u001b[0mpolynomial\u001b[0m\u001b[0;34m.\u001b[0m\u001b[0mpolynomial\u001b[0m\u001b[0;34m.\u001b[0m\u001b[0mpolymul\u001b[0m\u001b[0;34m(\u001b[0m\u001b[0mp\u001b[0m\u001b[0;34m(\u001b[0m\u001b[0mx\u001b[0m\u001b[0;34m)\u001b[0m\u001b[0;34m,\u001b[0m\u001b[0mq\u001b[0m\u001b[0;34m(\u001b[0m\u001b[0mx\u001b[0m\u001b[0;34m)\u001b[0m\u001b[0;34m)\u001b[0m\u001b[0;34m\u001b[0m\u001b[0;34m\u001b[0m\u001b[0m\n\u001b[0m",
      "\u001b[0;31mNameError\u001b[0m: name 'p' is not defined"
     ]
    }
   ],
   "source": [
    "rx= np.polynomial.polynomial.polymul(px,qx)"
   ]
  },
  {
   "cell_type": "code",
   "execution_count": 8,
   "id": "3e8d0660",
   "metadata": {},
   "outputs": [
    {
     "name": "stdout",
     "output_type": "stream",
     "text": [
      "r(x) is [ 10. -29.  30. -29.  10.]\n"
     ]
    }
   ],
   "source": [
    "# print the resultant polynomial\n",
    "\n",
    "print(\"r(x) is\",rx)"
   ]
  },
  {
   "cell_type": "code",
   "execution_count": null,
   "id": "c6f53afe",
   "metadata": {},
   "outputs": [],
   "source": []
  }
 ],
 "metadata": {
  "kernelspec": {
   "display_name": "Python 3 (ipykernel)",
   "language": "python",
   "name": "python3"
  },
  "language_info": {
   "codemirror_mode": {
    "name": "ipython",
    "version": 3
   },
   "file_extension": ".py",
   "mimetype": "text/x-python",
   "name": "python",
   "nbconvert_exporter": "python",
   "pygments_lexer": "ipython3",
   "version": "3.9.13"
  }
 },
 "nbformat": 4,
 "nbformat_minor": 5
}
